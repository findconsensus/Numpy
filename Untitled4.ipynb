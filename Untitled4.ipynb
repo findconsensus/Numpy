{
  "nbformat": 4,
  "nbformat_minor": 0,
  "metadata": {
    "colab": {
      "name": "Untitled4.ipynb",
      "provenance": []
    },
    "kernelspec": {
      "name": "python3",
      "display_name": "Python 3"
    }
  },
  "cells": [
    {
      "cell_type": "markdown",
      "metadata": {
        "id": "jXeuimkr6hjR",
        "colab_type": "text"
      },
      "source": [
        "## Homework"
      ]
    },
    {
      "cell_type": "code",
      "metadata": {
        "id": "aeyAdRr1vj4L",
        "colab_type": "code",
        "colab": {
          "base_uri": "https://localhost:8080/",
          "height": 34
        },
        "outputId": "30c95f0a-bebb-4cf2-de70-21304ef37e4e"
      },
      "source": [
        "import sympy as sym\n",
        "a, b = sym.symbols('a, b')\n",
        "expr = (a - b) ** 2 \n",
        "\n",
        "expr.expand()\n"
      ],
      "execution_count": 7,
      "outputs": [
        {
          "output_type": "execute_result",
          "data": {
            "image/png": "[encoded data removed]",
            "text/latex": "$$a^{2} - 2 a b + b^{2}$$",
            "text/plain": [
              " 2            2\n",
              "a  - 2⋅a⋅b + b "
            ]
          },
          "metadata": {
            "tags": []
          },
          "execution_count": 7
        }
      ]
    },
    {
      "cell_type": "code",
      "metadata": {
        "id": "MDK7OeY0xFf1",
        "colab_type": "code",
        "colab": {
          "base_uri": "https://localhost:8080/",
          "height": 34
        },
        "outputId": "14869c08-6b13-4873-8f40-3a35b85295b3"
      },
      "source": [
        "expr2 = a**2 - b**2\n",
        "expr2"
      ],
      "execution_count": 10,
      "outputs": [
        {
          "output_type": "execute_result",
          "data": {
            "image/png": "[encoded data removed]",
            "text/latex": "$$a^{2} - b^{2}$$",
            "text/plain": [
              " 2    2\n",
              "a  - b "
            ]
          },
          "metadata": {
            "tags": []
          },
          "execution_count": 10
        }
      ]
    },
    {
      "cell_type": "code",
      "metadata": {
        "id": "Mq9ZGp326vfk",
        "colab_type": "code",
        "colab": {
          "base_uri": "https://localhost:8080/",
          "height": 34
        },
        "outputId": "6aacd402-1b20-4321-f38e-143880def6f4"
      },
      "source": [
        "expr.factor(expr2)"
      ],
      "execution_count": 14,
      "outputs": [
        {
          "output_type": "execute_result",
          "data": {
            "image/png": "[encoded data removed]",
            "text/latex": "$$\\left(a - b\\right)^{2}$$",
            "text/plain": [
              "       2\n",
              "(a - b) "
            ]
          },
          "metadata": {
            "tags": []
          },
          "execution_count": 14
        }
      ]
    }
  ]
}